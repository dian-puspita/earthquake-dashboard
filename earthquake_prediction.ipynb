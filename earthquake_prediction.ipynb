{
 "cells": [
  {
   "cell_type": "markdown",
   "id": "ed91db5a",
   "metadata": {},
   "source": [
    "# Prediksi Probabilitas dan Magnitudo Gempa di Indonesia Berdasarkan Pulau\n",
    "\n",
    "## Tujuan\n",
    "Notebook ini bertujuan untuk:\n",
    "- Memprediksi **probabilitas terjadinya gempa bumi** di masing-masing pulau besar di Indonesia.\n",
    "- Memprediksi **magnitudo rata-rata** gempa bumi berdasarkan fitur lokasi (latitude, longitude, depth).\n",
    "- Membandingkan hasil prediksi dengan data historis sebagai validasi.\n",
    "\n",
    "## Dataset\n",
    "Data yang digunakan adalah `katalog_gempa.csv`, berisi data gempa dari BMKG dengan atribut:\n",
    "- `tgl`, `lat`, `lon`, `depth`, `mag`, dan informasi lainnya.\n",
    "- Data difokuskan pada tahun **2015 ke atas** untuk merepresentasikan kondisi terbaru.\n",
    "\n",
    "## Metode\n",
    "- **Random Forest Regressor** digunakan untuk memprediksi magnitudo gempa berdasarkan lokasi.\n",
    "- **Random Forest Classifier** digunakan untuk memprediksi kemungkinan lokasi (pulau) berdasarkan fitur gempa.\n",
    "- **K-Fold Cross Validation (k=10)** diterapkan untuk mengevaluasi performa beberapa model regresi: CART, C4.5, GBM, AdaBoost, dan Random Forest.\n",
    "\n",
    "## Output\n",
    "- Tabel yang menunjukkan:\n",
    "  - Probabilitas gempa berdasarkan hasil model machine learning (`probability_model`).\n",
    "  - Probabilitas historis dari frekuensi kejadian (`probability_historis`).\n",
    "  - Rata-rata magnitudo prediksi (`avg_predicted_mag`) dan historis (`avg_mag`) per pulau.\n"
   ]
  },
  {
   "cell_type": "markdown",
   "id": "5aba8f4c",
   "metadata": {},
   "source": [
    "1. Load dan Preprocessing Data"
   ]
  },
  {
   "cell_type": "code",
   "execution_count": 1,
   "id": "cf1e9cc8",
   "metadata": {},
   "outputs": [
    {
     "name": "stdout",
     "output_type": "stream",
     "text": [
      "(74038, 13)\n"
     ]
    }
   ],
   "source": [
    "import pandas as pd\n",
    "import numpy as np\n",
    "from geopy.distance import geodesic\n",
    "\n",
    "# Load data gempa\n",
    "data = pd.read_csv('data/katalog_gempa.csv')  \n",
    "data['tgl'] = pd.to_datetime(data['tgl'], errors='coerce')\n",
    "data = data[data['tgl'].dt.year >= 2015]\n",
    "\n",
    "# Hapus duplikat dan isi kosong\n",
    "cols = ['lat', 'lon', 'depth', 'mag']\n",
    "data.dropna(subset=cols, inplace=True)\n",
    "data = data.drop_duplicates()\n",
    "\n",
    "# Konversi numerik\n",
    "for col in cols:\n",
    "    data[col] = pd.to_numeric(data[col], errors='coerce')\n",
    "\n",
    "print(data.shape)\n"
   ]
  },
  {
   "cell_type": "markdown",
   "id": "87102884",
   "metadata": {},
   "source": [
    "2. Menentukan Pulau Berdasarkan Koordinat"
   ]
  },
  {
   "cell_type": "code",
   "execution_count": 2,
   "id": "08253122",
   "metadata": {},
   "outputs": [],
   "source": [
    "# Data centroid provinsi\n",
    "data_provinsi = [\n",
    "    ['Aceh', 4.69513500, 96.74939930, 'Sumatera'],\n",
    "    ['Sumatera Utara', 0.62469320, 123.97500180, 'Sumatera'],\n",
    "    ['Sumatera Barat', -0.73993970, 100.80000510, 'Sumatera'],\n",
    "    ['Riau', 0.29334690, 101.70682940, 'Sumatera'],\n",
    "    ['Jambi', -1.61012290, 103.61312030, 'Sumatera'],\n",
    "    ['Sumatera Selatan', -3.31943740, 103.91439900, 'Sumatera'],\n",
    "    ['Bengkulu', -3.79284510, 102.26076410, 'Sumatera'],\n",
    "    ['Lampung', -4.55858490, 105.40680790, 'Sumatera'],\n",
    "    ['Kepulauan Bangka Belitung', -2.74105130, 106.44058720, 'Sumatera'],\n",
    "    ['DKI Jakarta', -6.20876340, 106.84559900, 'Jawa'],\n",
    "    ['Jawa Barat', -7.09091100, 107.66888700, 'Jawa'],\n",
    "    ['Jawa Tengah', -7.15097500, 110.14025940, 'Jawa'],\n",
    "    ['DI Yogyakarta', -7.87538490, 110.42620880, 'Jawa'],\n",
    "    ['Jawa Timur', -7.53606390, 112.23840170, 'Jawa'],\n",
    "    ['Banten', -6.40581720, 106.06401790, 'Jawa'],\n",
    "    ['Bali', -8.34053890, 115.09195090, 'Bali'],\n",
    "    ['Nusa Tenggara Barat', -8.65293340, 117.36164760, 'Nusa Tenggara'],\n",
    "    ['Nusa Tenggara Timur', -8.65738190, 121.07937050, 'Nusa Tenggara'],\n",
    "    ['Kalimantan Barat', 0.47734750, 106.61314050, 'Kalimantan'],\n",
    "    ['Kalimantan Tengah', -1.68148780, 113.38235450, 'Kalimantan'],\n",
    "    ['Kalimantan Selatan', -3.09264150, 115.28375850, 'Kalimantan'],\n",
    "    ['Kalimantan Timur', 0.53865860, 116.41938900, 'Kalimantan'],\n",
    "    ['Kalimantan Utara', 3.07309290, 116.04138890, 'Kalimantan'],\n",
    "    ['Sulawesi Utara', 0.62469320, 123.97500180, 'Sulawesi'],\n",
    "    ['Gorontalo', 0.54354420, 123.05676930, 'Sulawesi'],\n",
    "    ['Sulawesi Tengah', -1.43002540, 121.44561790, 'Sulawesi'],\n",
    "    ['Sulawesi Barat', -2.84413710, 119.23207840, 'Sulawesi'],\n",
    "    ['Sulawesi Selatan', -3.66879940, 119.97405340, 'Sulawesi'],\n",
    "    ['Sulawesi Tenggara', -4.14491000, 122.17460500, 'Sulawesi'],\n",
    "    ['Maluku', -3.23846160, 130.14527340, 'Maluku'],\n",
    "    ['Maluku Utara', 1.57099930, 127.80876930, 'Maluku'],\n",
    "    ['Papua', -5.01222020, 141.34701590, 'Papua'],\n",
    "    ['Papua Barat', -1.33611540, 133.17471620, 'Papua']\n",
    "]\n",
    "\n",
    "# Assign pulau ke tiap data gempa\n",
    "df_prov = pd.DataFrame(data_provinsi, columns=['province', 'lat_prov', 'lon_prov', 'island'])\n",
    "def cari_island(lat, lon):\n",
    "    dists = (df_prov['lat_prov'] - lat)**2 + (df_prov['lon_prov'] - lon)**2\n",
    "    return df_prov.loc[dists.idxmin(), 'island']\n",
    "data['island'] = data.apply(lambda row: cari_island(row['lat'], row['lon']), axis=1)\n"
   ]
  },
  {
   "cell_type": "markdown",
   "id": "4d780ac8",
   "metadata": {},
   "source": [
    "3. Normalisasi Fitur dan Target"
   ]
  },
  {
   "cell_type": "code",
   "execution_count": 3,
   "id": "16b733ac",
   "metadata": {},
   "outputs": [],
   "source": [
    "from sklearn.preprocessing import StandardScaler, MinMaxScaler\n",
    "\n",
    "fitur = ['lat', 'lon', 'depth']\n",
    "scaler = StandardScaler()\n",
    "normalizer = MinMaxScaler()\n",
    "\n",
    "X_scaled = scaler.fit_transform(data[fitur])\n",
    "X_norm = normalizer.fit_transform(X_scaled)\n",
    "X = pd.DataFrame(X_norm, columns=fitur)\n",
    "y = data['mag']"
   ]
  },
  {
   "cell_type": "markdown",
   "id": "e60cd00f",
   "metadata": {},
   "source": [
    "4. Evaluasi Model (K-Fold, Akurasi, NRMSE)"
   ]
  },
  {
   "cell_type": "code",
   "execution_count": null,
   "id": "1144a8a1",
   "metadata": {},
   "outputs": [],
   "source": [
    "from sklearn.model_selection import KFold\n",
    "from sklearn.tree import DecisionTreeRegressor\n",
    "from sklearn.ensemble import RandomForestRegressor, GradientBoostingRegressor, AdaBoostRegressor\n",
    "from sklearn.metrics import mean_squared_error\n",
    "\n",
    "kf = KFold(n_splits=10, shuffle=True, random_state=42)\n",
    "models = {\n",
    "    'CART': DecisionTreeRegressor(random_state=42),\n",
    "    'Random Forest': RandomForestRegressor(n_estimators=100, random_state=42),\n",
    "    'C4.5': DecisionTreeRegressor(random_state=42),\n",
    "    'GBM': GradientBoostingRegressor(random_state=42),\n",
    "    'AdaBoost': AdaBoostRegressor(random_state=42)\n",
    "}\n",
    "\n",
    "results = {}\n",
    "\n",
    "for name, model in models.items():\n",
    "    y_true_all, y_pred_all = [], []\n",
    "    for train_idx, test_idx in kf.split(X):\n",
    "        X_train, X_test = X.iloc[train_idx], X.iloc[test_idx]\n",
    "        y_train, y_test = y.iloc[train_idx], y.iloc[test_idx]\n",
    "        model.fit(X_train, y_train)\n",
    "        y_pred = model.predict(X_test)\n",
    "        y_true_all.extend(y_test)\n",
    "        y_pred_all.extend(y_pred)\n",
    "    mse = mean_squared_error(y_true_all, y_pred_all)\n",
    "    rmse = np.sqrt(mse)\n",
    "    nrmse = rmse / (y.max() - y.min())\n",
    "    acc = (1 - nrmse) * 100\n",
    "    results[name] = {'MSE': mse, 'RMSE': rmse, 'NRMSE': nrmse, 'Accuracy (%)': acc}\n",
    "\n",
    "results_df = pd.DataFrame(results).T.sort_values(by='Accuracy (%)', ascending=False)\n",
    "print(\"\\nEvaluasi Model:\")\n",
    "print(results_df)"
   ]
  },
  {
   "cell_type": "markdown",
   "id": "82889401",
   "metadata": {},
   "source": [
    "5. Gunakan Best Model (Random Forest) untuk Prediksi"
   ]
  },
  {
   "cell_type": "code",
   "execution_count": null,
   "id": "1449a394",
   "metadata": {},
   "outputs": [],
   "source": [
    "best_model = RandomForestRegressor(n_estimators=100, random_state=42)\n",
    "best_model.fit(X, y)\n",
    "data['predicted_mag'] = best_model.predict(X)"
   ]
  },
  {
   "cell_type": "markdown",
   "id": "3137f325",
   "metadata": {},
   "source": [
    "6. Random Forest Classifier untuk Prediksi Pulau"
   ]
  },
  {
   "cell_type": "code",
   "execution_count": null,
   "id": "7c619f0a",
   "metadata": {},
   "outputs": [],
   "source": [
    "from sklearn.ensemble import RandomForestClassifier\n",
    "from sklearn.model_selection import train_test_split\n",
    "\n",
    "X_train, X_test, y_train, y_test = train_test_split(X, data['island'], test_size=0.2, random_state=42)\n",
    "clf = RandomForestClassifier(n_estimators=100, random_state=42)\n",
    "clf.fit(X_train, y_train)\n",
    "\n",
    "proba = clf.predict_proba(X_test)\n",
    "pulau_labels = clf.classes_\n",
    "prob_df = pd.DataFrame(proba, columns=pulau_labels)\n",
    "avg_prob = prob_df.mean().sort_values(ascending=False)"
   ]
  },
  {
   "cell_type": "markdown",
   "id": "a4dc29ac",
   "metadata": {},
   "source": [
    "7. Gabungan Hasil Akhir"
   ]
  },
  {
   "cell_type": "code",
   "execution_count": null,
   "id": "e5127ef2",
   "metadata": {},
   "outputs": [
    {
     "name": "stdout",
     "output_type": "stream",
     "text": [
      "\n",
      "Hasil Akhir:\n",
      "       island  probability_model (%)  probability_historis (%)  freq  avg_predicted_mag  avg_mag\n",
      "       Maluku                  24.99                     24.77 18338               3.86     3.85\n",
      "     Sulawesi                  18.91                     18.69 13836               3.20     3.20\n",
      "Nusa Tenggara                  17.88                     18.33 13568               3.32     3.31\n",
      "     Sumatera                  16.35                     16.21 12005               3.64     3.63\n",
      "         Jawa                  10.44                     10.33  7647               3.50     3.49\n",
      "        Papua                   6.65                      6.81  5041               3.80     3.79\n",
      "         Bali                   4.64                      4.65  3440               3.14     3.13\n",
      "   Kalimantan                   0.15                      0.22   163               4.16     4.19\n"
     ]
    }
   ],
   "source": [
    "# Historis\n",
    "freq_df = data.groupby('island').agg(freq=('mag', 'count'), avg_mag=('mag', 'mean')).reset_index()\n",
    "freq_df['probability_historis (%)'] = (freq_df['freq'] / freq_df['freq'].sum()) * 100\n",
    "\n",
    "# Prediksi Magnitudo\n",
    "pred_mag_df = data.groupby('island').agg(avg_predicted_mag=('predicted_mag', 'mean'), freq=('mag', 'count')).reset_index()\n",
    "avg_prob_df = avg_prob.reset_index()\n",
    "avg_prob_df.columns = ['island', 'probability_model']\n",
    "avg_prob_df['probability_model (%)'] = avg_prob_df['probability_model'] * 100\n",
    "\n",
    "# Gabungan Final\n",
    "final_df = avg_prob_df.merge(pred_mag_df, on='island', how='left')\n",
    "final_df = final_df.merge(freq_df[['island', 'avg_mag', 'probability_historis (%)']], on='island', how='left')\n",
    "final_df = final_df[['island', 'probability_model (%)', 'probability_historis (%)', 'freq', 'avg_predicted_mag', 'avg_mag']]\n",
    "final_df = final_df.sort_values(by='probability_model (%)', ascending=False)\n",
    "\n",
    "# Tampilkan dan Simpan\n",
    "import os\n",
    "os.makedirs('outputs', exist_ok=True)\n",
    "final_df.to_csv('outputs/probabilitas_dan_prediksi_magnitudo_per_pulau.csv', index=False)\n",
    "print(\"\\nHasil Akhir:\")\n",
    "print(final_df.to_string(index=False, float_format=\"%.2f\"))"
   ]
  }
 ],
 "metadata": {
  "kernelspec": {
   "display_name": "Python (earthquake-dashboard)",
   "language": "python",
   "name": "venv-earthquake"
  },
  "language_info": {
   "codemirror_mode": {
    "name": "ipython",
    "version": 3
   },
   "file_extension": ".py",
   "mimetype": "text/x-python",
   "name": "python",
   "nbconvert_exporter": "python",
   "pygments_lexer": "ipython3",
   "version": "3.12.2"
  }
 },
 "nbformat": 4,
 "nbformat_minor": 5
}
